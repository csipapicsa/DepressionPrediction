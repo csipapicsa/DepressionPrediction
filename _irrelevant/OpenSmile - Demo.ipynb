{
 "cells": [
  {
   "cell_type": "markdown",
   "metadata": {},
   "source": [
    "### OpenSmile demo"
   ]
  },
  {
   "cell_type": "code",
   "execution_count": 1,
   "metadata": {},
   "outputs": [
    {
     "name": "stdout",
     "output_type": "stream",
     "text": [
      "c:\\Program Files\\Python312;c:\\Users\\Gergo Gyori\\AppData\\Roaming\\Python\\Python312\\Scripts;C:\\Program Files (x86)\\Common Files\\Oracle\\Java\\javapath;C:\\Program Files\\Python312\\Scripts\\;C:\\Program Files\\Python312\\;C:\\Program Files\\NVIDIA GPU Computing Toolkit\\CUDA\\v12.2\\bin;C:\\Program Files\\NVIDIA GPU Computing Toolkit\\CUDA\\v12.2\\libnvvp;C:\\Windows\\system32;C:\\Windows;C:\\Windows\\System32\\Wbem;C:\\Windows\\System32\\WindowsPowerShell\\v1.0\\;C:\\Windows\\System32\\OpenSSH\\;C:\\WINDOWS\\system32;C:\\WINDOWS;C:\\WINDOWS\\System32\\Wbem;C:\\WINDOWS\\System32\\WindowsPowerShell\\v1.0\\;C:\\WINDOWS\\System32\\OpenSSH\\;C:\\Program Files (x86)\\NVIDIA Corporation\\PhysX\\Common;C:\\Users\\Gergo Gyori\\AppData\\Local\\Packages\\PythonSoftwareFoundation.Python.3.11_qbz5n2kfra8p0\\LocalCache\\local-packages\\Python311\\Scripts;C:\\Program Files\\gs\\gs10.01.2\\bin;C:\\JDK\\jdk-17\\bin;C:\\GRADLE\\gradle-7.2\\bin;C:\\JDK\\jdk-17\\bin;C:\\Program Files\\scala-cli-x86_64-pc-win32\\;C:\\Program Files\\NVIDIA Corporation\\NVIDIA NvDLISR;C:\\Program Files\\NVIDIA GPU Computing Toolkit\\CUDA\\v11\\bin;C:\\Program Files\\NVIDIA GPU Computing Toolkit\\CUDA\\v11\\lib;C:\\Program Files\\NVIDIA GPU Computing Toolkit\\CUDA\\v11\\include;C:\\Program Files\\NVIDIA Corporation\\Nsight Compute 2023.2.2\\;D:\\GITHUB\\SpotIdealPlaces\\PostGIS\\osm2pgsql-bin;C:\\Program Files\\PostgreSQL\\15\\bin;C:\\Program Files (x86)\\Windows Kits\\10\\Windows Performance Toolkit\\;C:\\Program Files\\dotnet\\;E:\\SYSTEM\\;C:\\Program Files\\sqlite;C:\\Program Files\\Amazon\\AWSCLIV2\\;C:\\Users\\Gergo Gyori\\Documents\\Arduino\\hardware\\HoRoSim\\redist\\mingw32\\bin;C:\\minGW\\bin;C:\\Program Files\\CMake\\bin;C:\\Program Files\\Git\\cmd;C:\\Program Files\\nodejs\\;C:\\Program Files\\PuTTY\\;C:\\Program Files\\MATLAB\\R2014b\\runtime\\win64;C:\\Program Files\\MATLAB\\R2014b\\bin;C:\\Python27;C:\\Python27\\Scripts;C:\\opensmile\\bin;E:\\texlive\\2024\\bin\\windows;C:\\Users\\Gergo Gyori\\AppData\\Local\\Programs\\Python\\Python38\\Scripts\\;C:\\Users\\Gergo Gyori\\AppData\\Local\\Programs\\Python\\Python38\\;C:\\Users\\Gergo Gyori\\AppData\\Roaming\\Python\\Python312\\Scripts;C:\\Users\\Gergo Gyori\\AppData\\Local\\Programs\\Python\\Python37\\Scripts\\;C:\\Users\\Gergo Gyori\\AppData\\Local\\Programs\\Python\\Python37\\;C:\\Program Files\\NVIDIA GPU Computing Toolkit\\CUDA\\v11\\bin;C:\\Program Files\\NVIDIA GPU Computing Toolkit\\CUDA\\v11\\lib;C:\\Windows\\system32;C:\\Windows;C:\\Windows\\System32\\Wbem;C:\\Windows\\System32\\WindowsPowerShell\\v1.0\\;C:\\Windows\\System32\\OpenSSH\\;C:\\WINDOWS\\system32;C:\\WINDOWS;C:\\WINDOWS\\System32\\Wbem;C:\\WINDOWS\\System32\\WindowsPowerShell\\v1.0\\;C:\\WINDOWS\\System32\\OpenSSH\\;C:\\Program Files (x86)\\NVIDIA Corporation\\PhysX\\Common;C:\\Program Files\\NVIDIA Corporation\\NVIDIA NvDLISR;C:\\Program Files\\NVIDIA Corporation\\Nsight Compute 2023.2.1\\;C:\\Users\\Gergo Gyori\\AppData\\Local\\Packages\\PythonSoftwareFoundation.Python.3.11_qbz5n2kfra8p0\\LocalCache\\local-packages\\Python311\\Scripts;C:\\Program Files\\Python312\\;C:\\Program Files\\Python312\\Scripts;C:\\Users\\Gergo Gyori\\AppData\\Local\\Programs\\Python\\Python311\\Scripts\\;C:\\Users\\Gergo Gyori\\AppData\\Local\\Programs\\Python\\Python311\\;C:\\Users\\Gergo Gyori\\AppData\\Local\\Microsoft\\WindowsApps;C:\\Users\\Gergo Gyori\\AppData\\Local\\GitHubDesktop\\bin;C:\\Users\\Gergo Gyori\\AppData\\Local\\Packages\\PythonSoftwareFoundation.Python.3.11_qbz5n2kfra8;C:\\JDK\\jdk-17\\bin;C:\\GRADLE\\gradle-7.2\\bin;C:\\Users\\Gergo Gyori\\AppData\\Local\\Programs\\Microsoft VS Code\\bin;C:\\Program Files\\scala-cli-x86_64-pc-win32;C:\\Users\\Gergo Gyori\\AppData\\Local\\Coursier\\data\\bin;C:\\Program Files\\NVIDIA GPU Computing Toolkit\\CUDA\\v11\\include;C:\\Program Files\\CMake\\bin;C:\\Users\\Gergo Gyori\\AppData\\Local\\Microsoft\\WinGet\\Packages\\Gyan.FFmpeg_Microsoft.Winget.Source_8wekyb3d8bbwe\\ffmpeg-6.1-full_build\\bin;C:\\Users\\Gergo Gyori\\.dotnet\\tools;C:\\Program Files\\sqlite;C:\\Users\\Gergo Gyori\\AppData\\Roaming\\npm;C:\\Users\\Gergo Gyori\\AppData\\Local\\Programs\\MiKTeX\\miktex\\bin\\x64\\;C:\\Program Files (x86)\\Common Files\\Oracle\\Java\\javapath;C:\\Program Files\\Python312\\Scripts\\;C:\\Program Files\\Python312\\;C:\\Program Files\\NVIDIA GPU Computing Toolkit\\CUDA\\v12.2\\bin;C:\\Program Files\\NVIDIA GPU Computing Toolkit\\CUDA\\v12.2\\libnvvp;C:\\Windows\\system32;C:\\Windows;C:\\Windows\\System32\\Wbem;C:\\Windows\\System32\\WindowsPowerShell\\v1.0\\;C:\\Windows\\System32\\OpenSSH\\;C:\\WINDOWS\\system32;C:\\WINDOWS;C:\\WINDOWS\\System32\\Wbem;C:\\WINDOWS\\System32\\WindowsPowerShell\\v1.0\\;C:\\WINDOWS\\System32\\OpenSSH\\;C:\\Program Files (x86)\\NVIDIA Corporation\\PhysX\\Common;C:\\Users\\Gergo Gyori\\AppData\\Local\\Packages\\PythonSoftwareFoundation.Python.3.11_qbz5n2kfra8p0\\LocalCache\\local-packages\\Python311\\Scripts;C:\\Program Files\\gs\\gs10.01.2\\bin;C:\\JDK\\jdk-17\\bin;C:\\GRADLE\\gradle-7.2\\bin;C:\\JDK\\jdk-17\\bin;C:\\Program Files\\scala-cli-x86_64-pc-win32\\;C:\\Program Files\\NVIDIA Corporation\\NVIDIA NvDLISR;C:\\Program Files\\NVIDIA GPU Computing Toolkit\\CUDA\\v11\\bin;C:\\Program Files\\NVIDIA GPU Computing Toolkit\\CUDA\\v11\\lib;C:\\Program Files\\NVIDIA GPU Computing Toolkit\\CUDA\\v11\\include;C:\\Program Files\\NVIDIA Corporation\\Nsight Compute 2023.2.2\\;D:\\GITHUB\\SpotIdealPlaces\\PostGIS\\osm2pgsql-bin;C:\\Program Files\\PostgreSQL\\15\\bin;C:\\Program Files (x86)\\Windows Kits\\10\\Windows Performance Toolkit\\;C:\\Program Files\\dotnet\\;E:\\SYSTEM\\;C:\\Program Files\\sqlite;C:\\Program Files\\Amazon\\AWSCLIV2\\;C:\\Users\\Gergo Gyori\\Documents\\Arduino\\hardware\\HoRoSim\\redist\\mingw32\\bin;C:\\minGW\\bin;C:\\Program Files\\CMake\\bin;C:\\Program Files\\Git\\cmd;C:\\Program Files\\nodejs\\;C:\\Program Files\\PuTTY\\;C:\\Program Files\\MATLAB\\R2014b\\runtime\\win64;C:\\Program Files\\MATLAB\\R2014b\\bin;C:\\Python27;C:\\Python27\\Scripts;C:\\opensmile\\bin;E:\\texlive\\2024\\bin\\windows;C:\\Users\\Gergo Gyori\\AppData\\Local\\Programs\\Python\\Python38\\Scripts\\;C:\\Users\\Gergo Gyori\\AppData\\Local\\Programs\\Python\\Python38\\;C:\\Users\\Gergo Gyori\\AppData\\Roaming\\Python\\Python312\\Scripts;C:\\Users\\Gergo Gyori\\AppData\\Local\\Programs\\Python\\Python37\\Scripts\\;C:\\Users\\Gergo Gyori\\AppData\\Local\\Programs\\Python\\Python37\\;C:\\Program Files\\NVIDIA GPU Computing Toolkit\\CUDA\\v11\\bin;C:\\Program Files\\NVIDIA GPU Computing Toolkit\\CUDA\\v11\\lib;C:\\Windows\\system32;C:\\Windows;C:\\Windows\\System32\\Wbem;C:\\Windows\\System32\\WindowsPowerShell\\v1.0\\;C:\\Windows\\System32\\OpenSSH\\;C:\\WINDOWS\\system32;C:\\WINDOWS;C:\\WINDOWS\\System32\\Wbem;C:\\WINDOWS\\System32\\WindowsPowerShell\\v1.0\\;C:\\WINDOWS\\System32\\OpenSSH\\;C:\\Program Files (x86)\\NVIDIA Corporation\\PhysX\\Common;C:\\Program Files\\NVIDIA Corporation\\NVIDIA NvDLISR;C:\\Program Files\\NVIDIA Corporation\\Nsight Compute 2023.2.1\\;C:\\Users\\Gergo Gyori\\AppData\\Local\\Packages\\PythonSoftwareFoundation.Python.3.11_qbz5n2kfra8p0\\LocalCache\\local-packages\\Python311\\Scripts;C:\\Program Files\\Python312\\;C:\\Program Files\\Python312\\Scripts;C:\\Users\\Gergo Gyori\\AppData\\Local\\Programs\\Python\\Python311\\Scripts\\;C:\\Users\\Gergo Gyori\\AppData\\Local\\Programs\\Python\\Python311\\;C:\\Users\\Gergo Gyori\\AppData\\Local\\Microsoft\\WindowsApps;C:\\Users\\Gergo Gyori\\AppData\\Local\\GitHubDesktop\\bin;C:\\Users\\Gergo Gyori\\AppData\\Local\\Packages\\PythonSoftwareFoundation.Python.3.11_qbz5n2kfra8;C:\\JDK\\jdk-17\\bin;C:\\GRADLE\\gradle-7.2\\bin;C:\\Users\\Gergo Gyori\\AppData\\Local\\Programs\\Microsoft VS Code\\bin;C:\\Program Files\\scala-cli-x86_64-pc-win32;C:\\Users\\Gergo Gyori\\AppData\\Local\\Coursier\\data\\bin;C:\\Program Files\\NVIDIA GPU Computing Toolkit\\CUDA\\v11\\include;C:\\Program Files\\CMake\\bin;C:\\Users\\Gergo Gyori\\AppData\\Local\\Microsoft\\WinGet\\Packages\\Gyan.FFmpeg_Microsoft.Winget.Source_8wekyb3d8bbwe\\ffmpeg-6.1-full_build\\bin;C:\\Users\\Gergo Gyori\\.dotnet\\tools;C:\\Program Files\\sqlite;C:\\Users\\Gergo Gyori\\AppData\\Roaming\\npm;C:\\Users\\Gergo Gyori\\AppData\\Local\\Programs\\MiKTeX\\miktex\\bin\\x64\\\n"
     ]
    }
   ],
   "source": [
    "import opensmile\n",
    "import pandas as pd\n",
    "\n",
    "import os\n",
    "print(os.environ['PATH'])"
   ]
  },
  {
   "cell_type": "markdown",
   "metadata": {},
   "source": [
    "Common Issues and Solutions:\n",
    "\n",
    "1. OpenSMILE not found error:\n",
    "   - Ensure the bin directory is in PATH\n",
    "   - Restart Python/IDE after adding to PATH\n",
    "   - Try using absolute path in code\n",
    "\n",
    "2. Audio file format issues:\n",
    "   - OpenSMILE works best with WAV files\n",
    "   - Convert other formats to WAV first using librosa:\n",
    "     \n",
    "     import librosa\n",
    "     y, sr = librosa.load('audio.mp3')\n",
    "     librosa.output.write_wav('audio.wav', y, sr)\n",
    "\n",
    "3. Feature extraction errors:\n",
    "   - Check audio file is not corrupted\n",
    "   - Ensure sufficient permissions\n",
    "   - Try different feature sets\n",
    "\n",
    "4. Memory issues with large files:\n",
    "   - Process shorter segments\n",
    "   - Use lower-level features\n",
    "   - Reduce sampling rate if possible\n",
    "\n",
    "Feature Sets Comparison:\n",
    "\n",
    "1. ComParE_2016:\n",
    "   - Most comprehensive (6373 features)\n",
    "   - Good for general purpose analysis\n",
    "   - Can be computationally intensive\n",
    "\n",
    "2. eGeMAPSv02:\n",
    "   - Extended Geneva Minimalistic Set (88 features)\n",
    "   - Good balance of performance and speed\n",
    "   - Recommended for speech analysis\n",
    "\n",
    "3. GeMAPSv01b:\n",
    "   - Basic Geneva Minimalistic Set (62 features)\n",
    "   - Fastest processing\n",
    "   - Good for initial experiments\n",
    "\"\"\""
   ]
  },
  {
   "cell_type": "code",
   "execution_count": null,
   "metadata": {},
   "outputs": [],
   "source": [
    "\n",
    "\n",
    "def extract_opensmile_features(audio_file, feature_set='ComParE_2016'):\n",
    "    \"\"\"\n",
    "    Extract features from audio file using OpenSMILE.\n",
    "    \n",
    "    Parameters:\n",
    "        audio_file (str): Path to audio file\n",
    "        feature_set (str): Name of feature set to use\n",
    "                          Options: 'ComParE_2016', 'eGeMAPSv02', 'GeMAPSv01b'\n",
    "    \n",
    "    Returns:\n",
    "        pandas.DataFrame: Extracted features\n",
    "    \"\"\"\n",
    "    # Initialize feature extractor\n",
    "    smile = opensmile.Smile(\n",
    "        feature_set=feature_set,\n",
    "        feature_level='functionals',\n",
    "        sampling_rate=None,  # Automatically detect from file\n",
    "    )\n",
    "    \n",
    "    # Extract features\n",
    "    features = smile.process_file(audio_file)\n",
    "    \n",
    "    return features\n",
    "\n",
    "def batch_process_audio_files(file_list, feature_set='ComParE_2016'):\n",
    "    \"\"\"\n",
    "    Process multiple audio files and combine their features.\n",
    "    \n",
    "    Parameters:\n",
    "        file_list (list): List of audio file paths\n",
    "        feature_set (str): Name of feature set to use\n",
    "    \n",
    "    Returns:\n",
    "        pandas.DataFrame: Combined features for all files\n",
    "    \"\"\"\n",
    "    all_features = []\n",
    "    \n",
    "    for file_path in file_list:\n",
    "        try:\n",
    "            features = extract_opensmile_features(file_path, feature_set)\n",
    "            features['file_name'] = file_path  # Add filename for reference\n",
    "            all_features.append(features)\n",
    "        except Exception as e:\n",
    "            print(f\"Error processing {file_path}: {e}\")\n",
    "    \n",
    "    if all_features:\n",
    "        return pd.concat(all_features, ignore_index=True)\n",
    "    return None\n",
    "\n",
    "# Example usage:\n",
    "def main(audio_path):\n",
    "    # Single file processing\n",
    "    features = extract_opensmile_features(audio_path)\n",
    "    print(\"Features extracted:\", features.shape)\n",
    "    \n",
    "    # Available feature sets\n",
    "    print(\"\\nAvailable feature sets:\")\n",
    "    for feature_set in ['ComParE_2016', 'eGeMAPSv02', 'GeMAPSv01b']:\n",
    "        smile = opensmile.Smile(\n",
    "            feature_set=feature_set,\n",
    "            feature_level='functionals'\n",
    "        )\n",
    "        print(f\"{feature_set}: {len(smile.feature_names)} features\")\n",
    "    \n",
    "    # Feature names\n",
    "    print(\"\\nFeature names example (first 5):\")\n",
    "    print(features.columns[:5].tolist())"
   ]
  },
  {
   "cell_type": "code",
   "execution_count": null,
   "metadata": {},
   "outputs": [],
   "source": [
    "audio_path = 'negative.wav'\n",
    "\n",
    "main(audio_path)"
   ]
  },
  {
   "cell_type": "code",
   "execution_count": null,
   "metadata": {},
   "outputs": [],
   "source": []
  },
  {
   "cell_type": "code",
   "execution_count": 2,
   "metadata": {},
   "outputs": [
    {
     "ename": "",
     "evalue": "",
     "output_type": "error",
     "traceback": [
      "\u001b[1;31mThe Kernel crashed while executing code in the current cell or a previous cell. \n",
      "\u001b[1;31mPlease review the code in the cell(s) to identify a possible cause of the failure. \n",
      "\u001b[1;31mClick <a href='https://aka.ms/vscodeJupyterKernelCrash'>here</a> for more info. \n",
      "\u001b[1;31mView Jupyter <a href='command:jupyter.viewOutput'>log</a> for further details."
     ]
    }
   ],
   "source": [
    "def extract_opensmile_features(audio_file, feature_set='GeMAPSv01b'):\n",
    "    \"\"\"Simplified version for testing\"\"\"\n",
    "    try:\n",
    "        smile = opensmile.Smile(\n",
    "            feature_set=feature_set,\n",
    "            feature_level='functionals',\n",
    "        )\n",
    "        print(\"Smile object created successfully\")\n",
    "        \n",
    "        features = smile.process_file(audio_file)\n",
    "        print(\"Features extracted successfully\")\n",
    "        \n",
    "        return features\n",
    "        \n",
    "    except Exception as e:\n",
    "        print(f\"Error: {str(e)}\")\n",
    "        print(f\"Error type: {type(e)}\")\n",
    "        return None\n",
    "\n",
    "# Test with minimal example\n",
    "audio_path = 'negative.wav'\n",
    "features = extract_opensmile_features(audio_path)"
   ]
  }
 ],
 "metadata": {
  "kernelspec": {
   "display_name": "Python 3",
   "language": "python",
   "name": "python3"
  },
  "language_info": {
   "codemirror_mode": {
    "name": "ipython",
    "version": 3
   },
   "file_extension": ".py",
   "mimetype": "text/x-python",
   "name": "python",
   "nbconvert_exporter": "python",
   "pygments_lexer": "ipython3",
   "version": "3.12.1"
  }
 },
 "nbformat": 4,
 "nbformat_minor": 2
}
