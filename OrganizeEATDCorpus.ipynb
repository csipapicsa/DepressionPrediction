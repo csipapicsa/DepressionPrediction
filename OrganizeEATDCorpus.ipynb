{
 "cells": [
  {
   "cell_type": "markdown",
   "metadata": {},
   "source": [
    "### EATD-Corpus organizer"
   ]
  },
  {
   "cell_type": "markdown",
   "metadata": {},
   "source": [
    " SDS scores are classified as \n",
    " normal (<50)\n",
    " mild depression (50 to 59)\n",
    " moderate to marked major depression (60 to 69), \n",
    " severe to extreme major depression (>70). The raw score can be converted to an SDS Index score by multiplying the raw score times 1.25."
   ]
  },
  {
   "cell_type": "code",
   "execution_count": 1,
   "metadata": {},
   "outputs": [],
   "source": [
    "import os\n",
    "import pandas as pd"
   ]
  },
  {
   "cell_type": "code",
   "execution_count": 2,
   "metadata": {},
   "outputs": [],
   "source": [
    "# read in all foldera in the dataset/EATD-Coprus folder\n",
    "BASE_PATH = \"datasets/EATD-Corpus\"\n",
    "folders = os.listdir(BASE_PATH)\n"
   ]
  },
  {
   "cell_type": "code",
   "execution_count": 5,
   "metadata": {},
   "outputs": [],
   "source": [
    "data = []\n",
    "# Loop through the folders\n",
    "for folder in folders:\n",
    "    # Get the path to the folder\n",
    "    folder_path = os.path.join(BASE_PATH, folder)\n",
    "    # Check if the folder is a directory\n",
    "    if os.path.isdir(folder_path):\n",
    "        # Get the path to the label.txt file\n",
    "        label_path = os.path.join(folder_path, \"label.txt\")\n",
    "        # Check if the file exists\n",
    "        if os.path.exists(label_path):\n",
    "            # Read the value from the file\n",
    "            with open(label_path, \"r\") as file:\n",
    "                label = file.read().strip()\n",
    "            # Get the path to the new_label.txt file\n",
    "            new_label_path = os.path.join(folder_path, \"new_label.txt\")\n",
    "            # Check if the file exists\n",
    "            if os.path.exists(new_label_path):\n",
    "                # Read the value from the file\n",
    "                with open(new_label_path, \"r\") as file:\n",
    "                    new_label = file.read().strip()\n",
    "                # Append the data to the list\n",
    "                data.append([folder, label, new_label])\n",
    "\n",
    "# Create a DataFrame from the data\n",
    "df = pd.DataFrame(data, columns=[\"folder\", \"label\", \"new_label\"])\n",
    "# rename label to SDS\n",
    "df.rename(columns={\"label\": \"SDS_raw\"}, inplace=True)\n",
    "df.rename(columns={\"new_label\": \"SDS_index\"}, inplace=True)\n",
    "# convert  SDS_raw SDS_index to float\n",
    "df[\"SDS_raw\"] = df[\"SDS_raw\"].astype(float)\n",
    "df[\"SDS_index\"] = df[\"SDS_index\"].astype(float)\n",
    "# categorize the depression based on the SDS_index. Add new column to the dataframe\n",
    "df[\"depression\"] = pd.cut(df[\"SDS_index\"], bins=[0, 50, 59, 69, 100], labels=[\"normal\", \"mild\", \"moderate\", \"severe\"])\n",
    "# add new colums: type. It can be \"training\" or \"validation\" based on the folder name (if it contains t or v )\n",
    "df[\"type\"] = df[\"folder\"].apply(lambda x: \"training\" if \"t\" in x else \"validation\")\n",
    "df[\"Participant_ID\"] = df[\"folder\"]\n",
    "# if SDS is below 50 it is 0 if it is above or equal it is 1\n",
    "df[\"PHQ8_Binary\"] = df[\"SDS_index\"].apply(lambda x: 0 if x < 50 else 1)\n",
    "phgq_dict  = {'normal': 0, 'mild': 1, 'moderate': 2, 'severe': 3}\n",
    "df[\"PHQ8_multiclass\"] = df[\"depression\"].map(phgq_dict)\n",
    "df[\"dataset\"] = df[\"folder\"].apply(lambda x: \"train\" if x.startswith(\"t\") else \"dev\")\n",
    "df[\"PHQ8_Score\"] = -1\n",
    "\"\"\"\n",
    "normal (<50)\n",
    "mild depression (50 to 59)\n",
    "moderate to marked major depression (60 to 69), \n",
    "severe to extreme major depression (>70).\n",
    "\"\"\"\n",
    "# save the dataframe to a csv file\n",
    "df.to_csv(\"datasets/EATD-Corpus/depression_categories_EATD-Corpus.csv\", index=False)"
   ]
  }
 ],
 "metadata": {
  "kernelspec": {
   "display_name": "Python 3",
   "language": "python",
   "name": "python3"
  },
  "language_info": {
   "codemirror_mode": {
    "name": "ipython",
    "version": 3
   },
   "file_extension": ".py",
   "mimetype": "text/x-python",
   "name": "python",
   "nbconvert_exporter": "python",
   "pygments_lexer": "ipython3",
   "version": "3.12.1"
  }
 },
 "nbformat": 4,
 "nbformat_minor": 2
}
