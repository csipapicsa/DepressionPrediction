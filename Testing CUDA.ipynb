{
 "cells": [
  {
   "cell_type": "code",
   "execution_count": 1,
   "metadata": {},
   "outputs": [
    {
     "name": "stdout",
     "output_type": "stream",
     "text": [
      "CUDA Available: True\n",
      "Device: NVIDIA GeForce GTX 1650 Ti\n",
      "\n",
      "Precision Support:\n",
      "float32: Supported ✓\n",
      "  - Memory per element: 4 bytes\n",
      "  - Range: -3.4028234663852886e+38 to 3.4028234663852886e+38\n",
      "float16: Supported ✓\n",
      "  - Memory per element: 2 bytes\n",
      "  - Range: -65504.0 to 65504.0\n",
      "bfloat16: Supported ✓\n",
      "  - Memory per element: 2 bytes\n",
      "  - Range: -3.3895313892515355e+38 to 3.3895313892515355e+38\n",
      "float64: Supported ✓\n",
      "  - Memory per element: 8 bytes\n",
      "  - Range: -1.7976931348623157e+308 to 1.7976931348623157e+308\n",
      "\n",
      "Automatic Mixed Precision (AMP) Support:\n",
      "AMP: Supported ✓\n"
     ]
    }
   ],
   "source": [
    "import torch\n",
    "\n",
    "def check_precision_support():\n",
    "    print(f\"CUDA Available: {torch.cuda.is_available()}\")\n",
    "    if torch.cuda.is_available():\n",
    "        device = torch.cuda.current_device()\n",
    "        print(f\"Device: {torch.cuda.get_device_name(device)}\")\n",
    "        \n",
    "        # Check support for different dtypes\n",
    "        dtypes = {\n",
    "            'float32': torch.float32,\n",
    "            'float16': torch.float16,\n",
    "            'bfloat16': torch.bfloat16,\n",
    "            'float64': torch.float64,\n",
    "        }\n",
    "        \n",
    "        print(\"\\nPrecision Support:\")\n",
    "        for name, dtype in dtypes.items():\n",
    "            try:\n",
    "                # Create a test tensor\n",
    "                x = torch.ones(10, device='cuda', dtype=dtype)\n",
    "                y = x + x\n",
    "                print(f\"{name}: Supported ✓\")\n",
    "                print(f\"  - Memory per element: {x.element_size()} bytes\")\n",
    "                print(f\"  - Range: {torch.finfo(dtype).min} to {torch.finfo(dtype).max}\")\n",
    "            except Exception as e:\n",
    "                print(f\"{name}: Not supported ✗\")\n",
    "        \n",
    "        # Check AMP (Automatic Mixed Precision) support\n",
    "        print(\"\\nAutomatic Mixed Precision (AMP) Support:\")\n",
    "        try:\n",
    "            from torch.cuda.amp import autocast\n",
    "            with autocast():\n",
    "                x = torch.ones(10, device='cuda')\n",
    "            print(\"AMP: Supported ✓\")\n",
    "        except Exception as e:\n",
    "            print(\"AMP: Not supported ✗\")\n",
    "\n",
    "if __name__ == \"__main__\":\n",
    "    check_precision_support()"
   ]
  }
 ],
 "metadata": {
  "kernelspec": {
   "display_name": "Python 3",
   "language": "python",
   "name": "python3"
  },
  "language_info": {
   "codemirror_mode": {
    "name": "ipython",
    "version": 3
   },
   "file_extension": ".py",
   "mimetype": "text/x-python",
   "name": "python",
   "nbconvert_exporter": "python",
   "pygments_lexer": "ipython3",
   "version": "3.12.1"
  }
 },
 "nbformat": 4,
 "nbformat_minor": 2
}
