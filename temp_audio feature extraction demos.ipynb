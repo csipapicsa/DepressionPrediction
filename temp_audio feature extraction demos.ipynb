{
 "cells": [
  {
   "cell_type": "markdown",
   "metadata": {},
   "source": [
    "### Pyaudio\n",
    "\n",
    "A Python library for audio feature extraction, segmentation, classification, and visualization. It can extract a wide range of audio features and is useful for more complex audio analysis tasks.\n",
    "\n"
   ]
  },
  {
   "cell_type": "markdown",
   "metadata": {},
   "source": [
    "from pyAudioAnalysis import audioBasicIO\n",
    "from pyAudioAnalysis import ShortTermFeatures\n",
    "import matplotlib.pyplot as plt\n",
    "\n",
    "[Fs, x] = audioBasicIO.read_audio_file(\"data/recording.wav\")\n",
    "F, f_names = ShortTermFeatures.feature_extraction(x, Fs, 0.050*Fs, 0.025*Fs)\n",
    "print(f_names)  # List of extracted feature names\n",
    "print(F)  # Matrix containing the features\n"
   ]
  }
 ],
 "metadata": {
  "language_info": {
   "name": "python"
  }
 },
 "nbformat": 4,
 "nbformat_minor": 2
}
