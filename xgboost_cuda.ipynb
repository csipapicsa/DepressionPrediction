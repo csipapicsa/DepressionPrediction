{
 "cells": [
  {
   "cell_type": "code",
   "execution_count": 1,
   "metadata": {},
   "outputs": [],
   "source": [
    "import xgboost as xgb"
   ]
  },
  {
   "cell_type": "code",
   "execution_count": 8,
   "metadata": {},
   "outputs": [
    {
     "ename": "NameError",
     "evalue": "name 'X' is not defined",
     "output_type": "error",
     "traceback": [
      "\u001b[1;31m---------------------------------------------------------------------------\u001b[0m",
      "\u001b[1;31mNameError\u001b[0m                                 Traceback (most recent call last)",
      "Cell \u001b[1;32mIn[8], line 4\u001b[0m\n\u001b[0;32m      2\u001b[0m params[\u001b[38;5;124m\"\u001b[39m\u001b[38;5;124mdevice\u001b[39m\u001b[38;5;124m\"\u001b[39m] \u001b[38;5;241m=\u001b[39m \u001b[38;5;124m\"\u001b[39m\u001b[38;5;124mcuda\u001b[39m\u001b[38;5;124m\"\u001b[39m\n\u001b[0;32m      3\u001b[0m params[\u001b[38;5;124m\"\u001b[39m\u001b[38;5;124mtree_method\u001b[39m\u001b[38;5;124m\"\u001b[39m] \u001b[38;5;241m=\u001b[39m \u001b[38;5;124m\"\u001b[39m\u001b[38;5;124mhist\u001b[39m\u001b[38;5;124m\"\u001b[39m\n\u001b[1;32m----> 4\u001b[0m Xy \u001b[38;5;241m=\u001b[39m xgb\u001b[38;5;241m.\u001b[39mQuantileDMatrix(\u001b[43mX\u001b[49m, y)\n\u001b[0;32m      5\u001b[0m xgb\u001b[38;5;241m.\u001b[39mtrain(params, Xy)\n",
      "\u001b[1;31mNameError\u001b[0m: name 'X' is not defined"
     ]
    }
   ],
   "source": [
    "params = dict()\n",
    "params[\"device\"] = \"cuda\"\n",
    "params[\"tree_method\"] = \"hist\"\n",
    "Xy = xgb.QuantileDMatrix(X, y)\n",
    "xgb.train(params, Xy)"
   ]
  },
  {
   "cell_type": "code",
   "execution_count": 12,
   "metadata": {},
   "outputs": [
    {
     "name": "stdout",
     "output_type": "stream",
     "text": [
      "Running XGBoost version: 2.1.2\n",
      "Using tree method with device: hist on cuda\n",
      "[12:55:37] INFO: C:\\buildkite-agent\\builds\\buildkite-windows-cpu-autoscaling-group-i-0ed59c031377d09b8-1\\xgboost\\xgboost-ci-windows\\src\\data\\simple_dmatrix.cc:139: Generating new Ellpack page.\n",
      "Model training complete and saved.\n"
     ]
    }
   ],
   "source": [
    "import xgboost as xgb\n",
    "import numpy as np\n",
    "\n",
    "# Generate some random data for demonstration\n",
    "X = np.random.randn(100, 10)  # 100 samples, 10 features each\n",
    "y = np.random.randn(100)  # 100 target values\n",
    "\n",
    "# Updated Parameters for XGBoost\n",
    "params = {\n",
    "    \"tree_method\": \"hist\",  # Using 'hist' as the tree method\n",
    "    \"device\": \"cuda\",  # Using CUDA for GPU computing instead of 'gpu_id'\n",
    "    \"verbosity\": 2  # Higher verbosity for more detailed logging\n",
    "}\n",
    "\n",
    "# Create a DMatrix\n",
    "dtrain = xgb.DMatrix(X, label=y)\n",
    "\n",
    "# Check if CUDA is used with updated parameters\n",
    "print(\"Running XGBoost version:\", xgb.__version__)\n",
    "print(\"Using tree method with device:\", params[\"tree_method\"], \"on\", params[\"device\"])\n",
    "\n",
    "# Train the model\n",
    "model = xgb.train(params, dtrain, num_boost_round=10)\n",
    "\n",
    "# Save the model\n",
    "model.save_model('model.json')  # Save in JSON format due to updated saving mechanism\n",
    "print(\"Model training complete and saved.\")"
   ]
  }
 ],
 "metadata": {
  "kernelspec": {
   "display_name": "Python 3",
   "language": "python",
   "name": "python3"
  },
  "language_info": {
   "codemirror_mode": {
    "name": "ipython",
    "version": 3
   },
   "file_extension": ".py",
   "mimetype": "text/x-python",
   "name": "python",
   "nbconvert_exporter": "python",
   "pygments_lexer": "ipython3",
   "version": "3.12.1"
  }
 },
 "nbformat": 4,
 "nbformat_minor": 2
}
